{
 "cells": [
  {
   "cell_type": "code",
   "execution_count": 1,
   "metadata": {
    "ExecuteTime": {
     "end_time": "2018-08-19T03:42:02.424823Z",
     "start_time": "2018-08-19T03:42:00.829107Z"
    }
   },
   "outputs": [],
   "source": [
    "import pandas as pd\n",
    "import os\n",
    "import numpy as np\n",
    "from matplotlib import pyplot as plt\n",
    "import re\n",
    "import time\n",
    "import sys\n",
    "import pickle\n",
    "import datetime\n",
    "\n",
    "%matplotlib inline"
   ]
  },
  {
   "cell_type": "code",
   "execution_count": 2,
   "metadata": {
    "ExecuteTime": {
     "end_time": "2018-08-19T03:42:25.614020Z",
     "start_time": "2018-08-19T03:42:02.428945Z"
    }
   },
   "outputs": [],
   "source": [
    "df = pd.read_csv('2008.csv')"
   ]
  },
  {
   "cell_type": "code",
   "execution_count": 3,
   "metadata": {
    "ExecuteTime": {
     "end_time": "2018-08-19T03:42:25.626584Z",
     "start_time": "2018-08-19T03:42:25.617299Z"
    }
   },
   "outputs": [
    {
     "data": {
      "text/plain": [
       "(7009728, 29)"
      ]
     },
     "execution_count": 3,
     "metadata": {},
     "output_type": "execute_result"
    }
   ],
   "source": [
    "df.shape"
   ]
  },
  {
   "cell_type": "code",
   "execution_count": 34,
   "metadata": {
    "ExecuteTime": {
     "end_time": "2018-08-19T03:57:22.479847Z",
     "start_time": "2018-08-19T03:57:22.470124Z"
    },
    "scrolled": true
   },
   "outputs": [
    {
     "name": "stdout",
     "output_type": "stream",
     "text": [
      "<class 'pandas.core.frame.DataFrame'>\n",
      "RangeIndex: 7009728 entries, 0 to 7009727\n",
      "Data columns (total 31 columns):\n",
      "Year                 int64\n",
      "Month                int64\n",
      "DayofMonth           int64\n",
      "DayOfWeek            int64\n",
      "DepTime              float64\n",
      "CRSDepTime           int64\n",
      "ArrTime              float64\n",
      "CRSArrTime           int64\n",
      "UniqueCarrier        object\n",
      "FlightNum            int64\n",
      "TailNum              object\n",
      "ActualElapsedTime    float64\n",
      "CRSElapsedTime       float64\n",
      "AirTime              float64\n",
      "ArrDelay             float64\n",
      "DepDelay             float64\n",
      "Origin               object\n",
      "Dest                 object\n",
      "Distance             int64\n",
      "TaxiIn               float64\n",
      "TaxiOut              float64\n",
      "Cancelled            int64\n",
      "CancellationCode     object\n",
      "Diverted             int64\n",
      "CarrierDelay         float64\n",
      "WeatherDelay         float64\n",
      "NASDelay             float64\n",
      "SecurityDelay        float64\n",
      "LateAircraftDelay    float64\n",
      "DepDateTime          datetime64[ns]\n",
      "DepHour              category\n",
      "dtypes: category(1), datetime64[ns](1), float64(14), int64(10), object(5)\n",
      "memory usage: 1.6+ GB\n"
     ]
    }
   ],
   "source": [
    "df.info()"
   ]
  },
  {
   "cell_type": "code",
   "execution_count": 5,
   "metadata": {
    "ExecuteTime": {
     "end_time": "2018-08-19T03:42:31.740561Z",
     "start_time": "2018-08-19T03:42:25.654503Z"
    },
    "scrolled": true
   },
   "outputs": [],
   "source": [
    "df['DepDateTime'] = pd.to_datetime(df['Year']*10000+df['Month']*100+\\\n",
    "                                   df['DayofMonth'],format='%Y%m%d')"
   ]
  },
  {
   "cell_type": "code",
   "execution_count": 6,
   "metadata": {
    "ExecuteTime": {
     "end_time": "2018-08-19T03:42:32.143427Z",
     "start_time": "2018-08-19T03:42:31.746274Z"
    },
    "scrolled": true
   },
   "outputs": [],
   "source": [
    "df['DepHour']= pd.cut(df.DepTime,\n",
    "                      bins=[0,100,200,300,400,500,600,700,800,900,1000,1100,\n",
    "                            1200,1300,1400,1500,1600,1700,1800,1900,2000,2100,\n",
    "                            2200,2300,2400],right=False)"
   ]
  },
  {
   "cell_type": "code",
   "execution_count": 35,
   "metadata": {
    "ExecuteTime": {
     "end_time": "2018-08-19T04:02:24.074650Z",
     "start_time": "2018-08-19T04:02:23.678883Z"
    }
   },
   "outputs": [
    {
     "data": {
      "text/plain": [
       "count    6.855029e+06\n",
       "mean     8.168452e+00\n",
       "std      3.850194e+01\n",
       "min     -5.190000e+02\n",
       "50%     -2.000000e+00\n",
       "95%      7.500000e+01\n",
       "max      2.461000e+03\n",
       "Name: ArrDelay, dtype: float64"
      ]
     },
     "execution_count": 35,
     "metadata": {},
     "output_type": "execute_result"
    }
   ],
   "source": [
    "df.ArrDelay.describe(percentiles=[0.95])"
   ]
  },
  {
   "cell_type": "code",
   "execution_count": 38,
   "metadata": {
    "ExecuteTime": {
     "end_time": "2018-08-19T04:03:34.532356Z",
     "start_time": "2018-08-19T04:03:34.146954Z"
    }
   },
   "outputs": [],
   "source": [
    "df['DepDelay_30min'] = pd.cut(df.DepDelay, bins=range(-30,2490,30), right=False)\n",
    "df['ArrDelay_30min'] = pd.cut(df.ArrDelay, bins=range(-30,2490,30), right=False)"
   ]
  },
  {
   "cell_type": "code",
   "execution_count": 40,
   "metadata": {
    "ExecuteTime": {
     "end_time": "2018-08-19T04:03:50.750991Z",
     "start_time": "2018-08-19T04:03:50.735716Z"
    },
    "collapsed": true
   },
   "outputs": [
    {
     "data": {
      "text/plain": [
       "0           [-30, 0)\n",
       "1            [0, 30)\n",
       "2            [0, 30)\n",
       "3           [-30, 0)\n",
       "4           [30, 60)\n",
       "5            [0, 30)\n",
       "6           [30, 60)\n",
       "7           [-30, 0)\n",
       "8            [0, 30)\n",
       "9           [-30, 0)\n",
       "10           [0, 30)\n",
       "11          [60, 90)\n",
       "12           [0, 30)\n",
       "13           [0, 30)\n",
       "14          [-30, 0)\n",
       "15           [0, 30)\n",
       "16           [0, 30)\n",
       "17          [-30, 0)\n",
       "18           [0, 30)\n",
       "19          [30, 60)\n",
       "20          [-30, 0)\n",
       "21           [0, 30)\n",
       "22           [0, 30)\n",
       "23          [-30, 0)\n",
       "24          [-30, 0)\n",
       "25           [0, 30)\n",
       "26          [30, 60)\n",
       "27           [0, 30)\n",
       "28          [-30, 0)\n",
       "29          [-30, 0)\n",
       "             ...    \n",
       "7009698     [-30, 0)\n",
       "7009699      [0, 30)\n",
       "7009700     [-30, 0)\n",
       "7009701     [30, 60)\n",
       "7009702     [-30, 0)\n",
       "7009703      [0, 30)\n",
       "7009704     [-30, 0)\n",
       "7009705     [60, 90)\n",
       "7009706     [-30, 0)\n",
       "7009707     [-30, 0)\n",
       "7009708      [0, 30)\n",
       "7009709      [0, 30)\n",
       "7009710      [0, 30)\n",
       "7009711     [-30, 0)\n",
       "7009712      [0, 30)\n",
       "7009713     [-30, 0)\n",
       "7009714     [-30, 0)\n",
       "7009715      [0, 30)\n",
       "7009716     [-30, 0)\n",
       "7009717     [60, 90)\n",
       "7009718    [90, 120)\n",
       "7009719      [0, 30)\n",
       "7009720      [0, 30)\n",
       "7009721      [0, 30)\n",
       "7009722      [0, 30)\n",
       "7009723      [0, 30)\n",
       "7009724     [-30, 0)\n",
       "7009725      [0, 30)\n",
       "7009726      [0, 30)\n",
       "7009727     [-30, 0)\n",
       "Name: ArrDelay_30min, Length: 7009728, dtype: category\n",
       "Categories (83, interval[int64]): [[-30, 0) < [0, 30) < [30, 60) < [60, 90) ... [2340, 2370) < [2370, 2400) < [2400, 2430) < [2430, 2460)]"
      ]
     },
     "execution_count": 40,
     "metadata": {},
     "output_type": "execute_result"
    }
   ],
   "source": [
    "df.ArrDelay_30min"
   ]
  },
  {
   "cell_type": "code",
   "execution_count": 42,
   "metadata": {
    "ExecuteTime": {
     "end_time": "2018-08-19T04:04:58.894044Z",
     "start_time": "2018-08-19T04:04:58.435690Z"
    }
   },
   "outputs": [
    {
     "data": {
      "text/plain": [
       "B    54904\n",
       "A    54330\n",
       "C    28188\n",
       "D       12\n",
       "Name: CancellationCode, dtype: int64"
      ]
     },
     "execution_count": 42,
     "metadata": {},
     "output_type": "execute_result"
    }
   ],
   "source": [
    "df.CancellationCode.value_counts()"
   ]
  },
  {
   "cell_type": "code",
   "execution_count": 45,
   "metadata": {
    "ExecuteTime": {
     "end_time": "2018-08-19T04:18:30.760038Z",
     "start_time": "2018-08-19T04:18:30.754253Z"
    }
   },
   "outputs": [
    {
     "data": {
      "text/plain": [
       "['.DS_Store',\n",
       " '2008.csv',\n",
       " 'gz_2010_us_040_00_5m.json',\n",
       " 'data_wrangling.ipynb',\n",
       " 'airports.csv',\n",
       " '.ipynb_checkpoints',\n",
       " 'flights.csv',\n",
       " 'baseball_data.csv',\n",
       " 'carriers.csv']"
      ]
     },
     "execution_count": 45,
     "metadata": {},
     "output_type": "execute_result"
    }
   ],
   "source": [
    "os.listdir()"
   ]
  },
  {
   "cell_type": "code",
   "execution_count": 48,
   "metadata": {
    "ExecuteTime": {
     "end_time": "2018-08-19T04:19:08.666391Z",
     "start_time": "2018-08-19T04:19:08.629641Z"
    }
   },
   "outputs": [],
   "source": [
    "carriers=pd.read_csv('carriers.csv')\n",
    "airports=pd.read_csv('airports.csv')"
   ]
  },
  {
   "cell_type": "code",
   "execution_count": 50,
   "metadata": {
    "ExecuteTime": {
     "end_time": "2018-08-19T04:19:19.246023Z",
     "start_time": "2018-08-19T04:19:19.224365Z"
    }
   },
   "outputs": [
    {
     "data": {
      "text/html": [
       "<div>\n",
       "<style scoped>\n",
       "    .dataframe tbody tr th:only-of-type {\n",
       "        vertical-align: middle;\n",
       "    }\n",
       "\n",
       "    .dataframe tbody tr th {\n",
       "        vertical-align: top;\n",
       "    }\n",
       "\n",
       "    .dataframe thead th {\n",
       "        text-align: right;\n",
       "    }\n",
       "</style>\n",
       "<table border=\"1\" class=\"dataframe\">\n",
       "  <thead>\n",
       "    <tr style=\"text-align: right;\">\n",
       "      <th></th>\n",
       "      <th>iata</th>\n",
       "      <th>airport</th>\n",
       "      <th>city</th>\n",
       "      <th>state</th>\n",
       "      <th>country</th>\n",
       "      <th>lat</th>\n",
       "      <th>long</th>\n",
       "    </tr>\n",
       "  </thead>\n",
       "  <tbody>\n",
       "    <tr>\n",
       "      <th>0</th>\n",
       "      <td>00M</td>\n",
       "      <td>Thigpen</td>\n",
       "      <td>Bay Springs</td>\n",
       "      <td>MS</td>\n",
       "      <td>USA</td>\n",
       "      <td>31.953765</td>\n",
       "      <td>-89.234505</td>\n",
       "    </tr>\n",
       "    <tr>\n",
       "      <th>1</th>\n",
       "      <td>00R</td>\n",
       "      <td>Livingston Municipal</td>\n",
       "      <td>Livingston</td>\n",
       "      <td>TX</td>\n",
       "      <td>USA</td>\n",
       "      <td>30.685861</td>\n",
       "      <td>-95.017928</td>\n",
       "    </tr>\n",
       "    <tr>\n",
       "      <th>2</th>\n",
       "      <td>00V</td>\n",
       "      <td>Meadow Lake</td>\n",
       "      <td>Colorado Springs</td>\n",
       "      <td>CO</td>\n",
       "      <td>USA</td>\n",
       "      <td>38.945749</td>\n",
       "      <td>-104.569893</td>\n",
       "    </tr>\n",
       "    <tr>\n",
       "      <th>3</th>\n",
       "      <td>01G</td>\n",
       "      <td>Perry-Warsaw</td>\n",
       "      <td>Perry</td>\n",
       "      <td>NY</td>\n",
       "      <td>USA</td>\n",
       "      <td>42.741347</td>\n",
       "      <td>-78.052081</td>\n",
       "    </tr>\n",
       "    <tr>\n",
       "      <th>4</th>\n",
       "      <td>01J</td>\n",
       "      <td>Hilliard Airpark</td>\n",
       "      <td>Hilliard</td>\n",
       "      <td>FL</td>\n",
       "      <td>USA</td>\n",
       "      <td>30.688012</td>\n",
       "      <td>-81.905944</td>\n",
       "    </tr>\n",
       "  </tbody>\n",
       "</table>\n",
       "</div>"
      ],
      "text/plain": [
       "  iata               airport              city state country        lat  \\\n",
       "0  00M              Thigpen        Bay Springs    MS     USA  31.953765   \n",
       "1  00R  Livingston Municipal        Livingston    TX     USA  30.685861   \n",
       "2  00V           Meadow Lake  Colorado Springs    CO     USA  38.945749   \n",
       "3  01G          Perry-Warsaw             Perry    NY     USA  42.741347   \n",
       "4  01J      Hilliard Airpark          Hilliard    FL     USA  30.688012   \n",
       "\n",
       "         long  \n",
       "0  -89.234505  \n",
       "1  -95.017928  \n",
       "2 -104.569893  \n",
       "3  -78.052081  \n",
       "4  -81.905944  "
      ]
     },
     "execution_count": 50,
     "metadata": {},
     "output_type": "execute_result"
    }
   ],
   "source": [
    "airports.head()"
   ]
  },
  {
   "cell_type": "code",
   "execution_count": 63,
   "metadata": {
    "ExecuteTime": {
     "end_time": "2018-08-19T04:30:52.966066Z",
     "start_time": "2018-08-19T04:30:38.514119Z"
    }
   },
   "outputs": [],
   "source": [
    "df=pd.merge(df,airports[['iata','airport','lat','long']],left_on='Origin',\n",
    "            right_on='iata')\n",
    "df=pd.merge(df,airports[['iata','airport','lat','long']],left_on='Dest',\n",
    "            right_on='iata', suffixes=('_Origin','_Dest'))"
   ]
  },
  {
   "cell_type": "code",
   "execution_count": 64,
   "metadata": {
    "ExecuteTime": {
     "end_time": "2018-08-19T04:31:01.608627Z",
     "start_time": "2018-08-19T04:30:57.463874Z"
    }
   },
   "outputs": [
    {
     "name": "stdout",
     "output_type": "stream",
     "text": [
      "<class 'pandas.core.frame.DataFrame'>\n",
      "Int64Index: 7009728 entries, 0 to 7009727\n",
      "Data columns (total 41 columns):\n",
      "Year                 int64\n",
      "Month                int64\n",
      "DayofMonth           int64\n",
      "DayOfWeek            int64\n",
      "DepTime              float64\n",
      "CRSDepTime           int64\n",
      "ArrTime              float64\n",
      "CRSArrTime           int64\n",
      "UniqueCarrier        object\n",
      "FlightNum            int64\n",
      "TailNum              object\n",
      "ActualElapsedTime    float64\n",
      "CRSElapsedTime       float64\n",
      "AirTime              float64\n",
      "ArrDelay             float64\n",
      "DepDelay             float64\n",
      "Origin               object\n",
      "Dest                 object\n",
      "Distance             int64\n",
      "TaxiIn               float64\n",
      "TaxiOut              float64\n",
      "Cancelled            int64\n",
      "CancellationCode     object\n",
      "Diverted             int64\n",
      "CarrierDelay         float64\n",
      "WeatherDelay         float64\n",
      "NASDelay             float64\n",
      "SecurityDelay        float64\n",
      "LateAircraftDelay    float64\n",
      "DepDateTime          datetime64[ns]\n",
      "DepHour              category\n",
      "DepDelay_30min       category\n",
      "ArrDelay_30min       category\n",
      "iata_Origin          object\n",
      "airport_Origin       object\n",
      "lat_Origin           float64\n",
      "long_Origin          float64\n",
      "iata_Dest            object\n",
      "airport_Dest         object\n",
      "lat_Dest             float64\n",
      "long_Dest            float64\n",
      "dtypes: category(3), datetime64[ns](1), float64(18), int64(10), object(9)\n",
      "memory usage: 2.1+ GB\n"
     ]
    }
   ],
   "source": [
    "df.info()"
   ]
  },
  {
   "cell_type": "code",
   "execution_count": 66,
   "metadata": {
    "ExecuteTime": {
     "end_time": "2018-08-19T04:31:30.193959Z",
     "start_time": "2018-08-19T04:31:30.184691Z"
    }
   },
   "outputs": [
    {
     "data": {
      "text/plain": [
       "Index(['Year', 'Month', 'DayofMonth', 'DayOfWeek', 'DepTime', 'CRSDepTime',\n",
       "       'ArrTime', 'CRSArrTime', 'UniqueCarrier', 'FlightNum', 'TailNum',\n",
       "       'ActualElapsedTime', 'CRSElapsedTime', 'AirTime', 'ArrDelay',\n",
       "       'DepDelay', 'Origin', 'Dest', 'Distance', 'TaxiIn', 'TaxiOut',\n",
       "       'Cancelled', 'CancellationCode', 'Diverted', 'CarrierDelay',\n",
       "       'WeatherDelay', 'NASDelay', 'SecurityDelay', 'LateAircraftDelay',\n",
       "       'DepDateTime', 'DepHour', 'DepDelay_30min', 'ArrDelay_30min',\n",
       "       'iata_Origin', 'airport_Origin', 'lat_Origin', 'long_Origin',\n",
       "       'iata_Dest', 'airport_Dest', 'lat_Dest', 'long_Dest'],\n",
       "      dtype='object')"
      ]
     },
     "execution_count": 66,
     "metadata": {},
     "output_type": "execute_result"
    }
   ],
   "source": [
    "# rename columns\n",
    "df.columns"
   ]
  },
  {
   "cell_type": "code",
   "execution_count": 67,
   "metadata": {
    "ExecuteTime": {
     "end_time": "2018-08-19T04:33:20.788313Z",
     "start_time": "2018-08-19T04:33:19.452209Z"
    }
   },
   "outputs": [],
   "source": [
    "df=df[['Year', 'Month', 'DayofMonth', 'DayOfWeek', 'DepTime', 'CRSDepTime',\n",
    "       'ArrTime', 'CRSArrTime', 'UniqueCarrier', 'FlightNum', 'TailNum',\n",
    "       'ActualElapsedTime', 'CRSElapsedTime', 'AirTime', 'ArrDelay',\n",
    "       'DepDelay', 'Origin', 'Dest', 'Distance', 'TaxiIn', 'TaxiOut',\n",
    "       'Cancelled', 'CancellationCode', 'Diverted', 'CarrierDelay',\n",
    "       'WeatherDelay', 'NASDelay', 'SecurityDelay', 'LateAircraftDelay',\n",
    "       'DepDateTime', 'DepHour', 'DepDelay_30min', 'ArrDelay_30min', \n",
    "       'airport_Origin', 'lat_Origin', 'long_Origin','airport_Dest', \n",
    "       'lat_Dest', 'long_Dest']]"
   ]
  },
  {
   "cell_type": "code",
   "execution_count": 68,
   "metadata": {
    "ExecuteTime": {
     "end_time": "2018-08-19T04:41:47.856857Z",
     "start_time": "2018-08-19T04:35:55.983937Z"
    }
   },
   "outputs": [],
   "source": [
    "df.to_csv('2008_rf.csv', index=False)"
   ]
  },
  {
   "cell_type": "code",
   "execution_count": 79,
   "metadata": {
    "ExecuteTime": {
     "end_time": "2018-08-19T07:48:35.596783Z",
     "start_time": "2018-08-19T07:47:56.339562Z"
    }
   },
   "outputs": [],
   "source": [
    "df.sample(500000).to_csv('2008_01.csv')"
   ]
  },
  {
   "cell_type": "code",
   "execution_count": 82,
   "metadata": {
    "ExecuteTime": {
     "end_time": "2018-08-19T07:57:26.811334Z",
     "start_time": "2018-08-19T07:57:12.603914Z"
    }
   },
   "outputs": [
    {
     "data": {
      "text/html": [
       "<div>\n",
       "<style scoped>\n",
       "    .dataframe tbody tr th:only-of-type {\n",
       "        vertical-align: middle;\n",
       "    }\n",
       "\n",
       "    .dataframe tbody tr th {\n",
       "        vertical-align: top;\n",
       "    }\n",
       "\n",
       "    .dataframe thead th {\n",
       "        text-align: right;\n",
       "    }\n",
       "</style>\n",
       "<table border=\"1\" class=\"dataframe\">\n",
       "  <thead>\n",
       "    <tr style=\"text-align: right;\">\n",
       "      <th></th>\n",
       "      <th>Year</th>\n",
       "      <th>Month</th>\n",
       "      <th>DayofMonth</th>\n",
       "      <th>DayOfWeek</th>\n",
       "      <th>DepTime</th>\n",
       "      <th>CRSDepTime</th>\n",
       "      <th>ArrTime</th>\n",
       "      <th>CRSArrTime</th>\n",
       "      <th>FlightNum</th>\n",
       "      <th>ActualElapsedTime</th>\n",
       "      <th>...</th>\n",
       "      <th>Diverted</th>\n",
       "      <th>CarrierDelay</th>\n",
       "      <th>WeatherDelay</th>\n",
       "      <th>NASDelay</th>\n",
       "      <th>SecurityDelay</th>\n",
       "      <th>LateAircraftDelay</th>\n",
       "      <th>lat_Origin</th>\n",
       "      <th>long_Origin</th>\n",
       "      <th>lat_Dest</th>\n",
       "      <th>long_Dest</th>\n",
       "    </tr>\n",
       "  </thead>\n",
       "  <tbody>\n",
       "    <tr>\n",
       "      <th>count</th>\n",
       "      <td>7009728.0</td>\n",
       "      <td>7.009728e+06</td>\n",
       "      <td>7.009728e+06</td>\n",
       "      <td>7.009728e+06</td>\n",
       "      <td>6.873482e+06</td>\n",
       "      <td>7.009728e+06</td>\n",
       "      <td>6.858079e+06</td>\n",
       "      <td>7.009728e+06</td>\n",
       "      <td>7.009728e+06</td>\n",
       "      <td>6.855029e+06</td>\n",
       "      <td>...</td>\n",
       "      <td>7.009728e+06</td>\n",
       "      <td>1.524735e+06</td>\n",
       "      <td>1.524735e+06</td>\n",
       "      <td>1.524735e+06</td>\n",
       "      <td>1.524735e+06</td>\n",
       "      <td>1.524735e+06</td>\n",
       "      <td>7.009728e+06</td>\n",
       "      <td>7.009728e+06</td>\n",
       "      <td>7.009728e+06</td>\n",
       "      <td>7.009728e+06</td>\n",
       "    </tr>\n",
       "    <tr>\n",
       "      <th>mean</th>\n",
       "      <td>2008.0</td>\n",
       "      <td>6.375130e+00</td>\n",
       "      <td>1.572801e+01</td>\n",
       "      <td>3.924182e+00</td>\n",
       "      <td>1.333830e+03</td>\n",
       "      <td>1.326086e+03</td>\n",
       "      <td>1.481258e+03</td>\n",
       "      <td>1.494801e+03</td>\n",
       "      <td>2.224200e+03</td>\n",
       "      <td>1.273224e+02</td>\n",
       "      <td>...</td>\n",
       "      <td>2.463006e-03</td>\n",
       "      <td>1.577206e+01</td>\n",
       "      <td>3.039031e+00</td>\n",
       "      <td>1.716462e+01</td>\n",
       "      <td>7.497434e-02</td>\n",
       "      <td>2.077098e+01</td>\n",
       "      <td>3.685224e+01</td>\n",
       "      <td>-9.510637e+01</td>\n",
       "      <td>3.685216e+01</td>\n",
       "      <td>-9.510661e+01</td>\n",
       "    </tr>\n",
       "    <tr>\n",
       "      <th>std</th>\n",
       "      <td>0.0</td>\n",
       "      <td>3.406737e+00</td>\n",
       "      <td>8.797068e+00</td>\n",
       "      <td>1.988259e+00</td>\n",
       "      <td>4.780689e+02</td>\n",
       "      <td>4.642509e+02</td>\n",
       "      <td>5.052251e+02</td>\n",
       "      <td>4.826728e+02</td>\n",
       "      <td>1.961716e+03</td>\n",
       "      <td>7.018731e+01</td>\n",
       "      <td>...</td>\n",
       "      <td>4.956753e-02</td>\n",
       "      <td>4.009912e+01</td>\n",
       "      <td>1.950287e+01</td>\n",
       "      <td>3.189495e+01</td>\n",
       "      <td>1.837940e+00</td>\n",
       "      <td>3.925964e+01</td>\n",
       "      <td>5.692855e+00</td>\n",
       "      <td>1.789563e+01</td>\n",
       "      <td>5.692920e+00</td>\n",
       "      <td>1.789537e+01</td>\n",
       "    </tr>\n",
       "    <tr>\n",
       "      <th>min</th>\n",
       "      <td>2008.0</td>\n",
       "      <td>1.000000e+00</td>\n",
       "      <td>1.000000e+00</td>\n",
       "      <td>1.000000e+00</td>\n",
       "      <td>1.000000e+00</td>\n",
       "      <td>0.000000e+00</td>\n",
       "      <td>1.000000e+00</td>\n",
       "      <td>0.000000e+00</td>\n",
       "      <td>1.000000e+00</td>\n",
       "      <td>1.200000e+01</td>\n",
       "      <td>...</td>\n",
       "      <td>0.000000e+00</td>\n",
       "      <td>0.000000e+00</td>\n",
       "      <td>0.000000e+00</td>\n",
       "      <td>0.000000e+00</td>\n",
       "      <td>0.000000e+00</td>\n",
       "      <td>0.000000e+00</td>\n",
       "      <td>1.770189e+01</td>\n",
       "      <td>-1.766460e+02</td>\n",
       "      <td>1.770189e+01</td>\n",
       "      <td>-1.766460e+02</td>\n",
       "    </tr>\n",
       "    <tr>\n",
       "      <th>25%</th>\n",
       "      <td>2008.0</td>\n",
       "      <td>3.000000e+00</td>\n",
       "      <td>8.000000e+00</td>\n",
       "      <td>2.000000e+00</td>\n",
       "      <td>9.280000e+02</td>\n",
       "      <td>9.250000e+02</td>\n",
       "      <td>1.107000e+03</td>\n",
       "      <td>1.115000e+03</td>\n",
       "      <td>6.220000e+02</td>\n",
       "      <td>7.700000e+01</td>\n",
       "      <td>...</td>\n",
       "      <td>0.000000e+00</td>\n",
       "      <td>0.000000e+00</td>\n",
       "      <td>0.000000e+00</td>\n",
       "      <td>0.000000e+00</td>\n",
       "      <td>0.000000e+00</td>\n",
       "      <td>0.000000e+00</td>\n",
       "      <td>3.343417e+01</td>\n",
       "      <td>-1.119778e+02</td>\n",
       "      <td>3.343417e+01</td>\n",
       "      <td>-1.119778e+02</td>\n",
       "    </tr>\n",
       "    <tr>\n",
       "      <th>50%</th>\n",
       "      <td>2008.0</td>\n",
       "      <td>6.000000e+00</td>\n",
       "      <td>1.600000e+01</td>\n",
       "      <td>4.000000e+00</td>\n",
       "      <td>1.325000e+03</td>\n",
       "      <td>1.320000e+03</td>\n",
       "      <td>1.512000e+03</td>\n",
       "      <td>1.517000e+03</td>\n",
       "      <td>1.571000e+03</td>\n",
       "      <td>1.100000e+02</td>\n",
       "      <td>...</td>\n",
       "      <td>0.000000e+00</td>\n",
       "      <td>0.000000e+00</td>\n",
       "      <td>0.000000e+00</td>\n",
       "      <td>6.000000e+00</td>\n",
       "      <td>0.000000e+00</td>\n",
       "      <td>0.000000e+00</td>\n",
       "      <td>3.761900e+01</td>\n",
       "      <td>-8.966678e+01</td>\n",
       "      <td>3.761900e+01</td>\n",
       "      <td>-8.966678e+01</td>\n",
       "    </tr>\n",
       "    <tr>\n",
       "      <th>75%</th>\n",
       "      <td>2008.0</td>\n",
       "      <td>9.000000e+00</td>\n",
       "      <td>2.300000e+01</td>\n",
       "      <td>6.000000e+00</td>\n",
       "      <td>1.728000e+03</td>\n",
       "      <td>1.715000e+03</td>\n",
       "      <td>1.909000e+03</td>\n",
       "      <td>1.907000e+03</td>\n",
       "      <td>3.518000e+03</td>\n",
       "      <td>1.570000e+02</td>\n",
       "      <td>...</td>\n",
       "      <td>0.000000e+00</td>\n",
       "      <td>1.600000e+01</td>\n",
       "      <td>0.000000e+00</td>\n",
       "      <td>2.100000e+01</td>\n",
       "      <td>0.000000e+00</td>\n",
       "      <td>2.600000e+01</td>\n",
       "      <td>4.078839e+01</td>\n",
       "      <td>-8.168786e+01</td>\n",
       "      <td>4.078839e+01</td>\n",
       "      <td>-8.168786e+01</td>\n",
       "    </tr>\n",
       "    <tr>\n",
       "      <th>max</th>\n",
       "      <td>2008.0</td>\n",
       "      <td>1.200000e+01</td>\n",
       "      <td>3.100000e+01</td>\n",
       "      <td>7.000000e+00</td>\n",
       "      <td>2.400000e+03</td>\n",
       "      <td>2.359000e+03</td>\n",
       "      <td>2.400000e+03</td>\n",
       "      <td>2.400000e+03</td>\n",
       "      <td>9.743000e+03</td>\n",
       "      <td>1.379000e+03</td>\n",
       "      <td>...</td>\n",
       "      <td>1.000000e+00</td>\n",
       "      <td>2.436000e+03</td>\n",
       "      <td>1.352000e+03</td>\n",
       "      <td>1.357000e+03</td>\n",
       "      <td>3.920000e+02</td>\n",
       "      <td>1.316000e+03</td>\n",
       "      <td>7.128545e+01</td>\n",
       "      <td>-6.479856e+01</td>\n",
       "      <td>7.128545e+01</td>\n",
       "      <td>-6.479856e+01</td>\n",
       "    </tr>\n",
       "  </tbody>\n",
       "</table>\n",
       "<p>8 rows × 28 columns</p>\n",
       "</div>"
      ],
      "text/plain": [
       "            Year         Month    DayofMonth     DayOfWeek       DepTime  \\\n",
       "count  7009728.0  7.009728e+06  7.009728e+06  7.009728e+06  6.873482e+06   \n",
       "mean      2008.0  6.375130e+00  1.572801e+01  3.924182e+00  1.333830e+03   \n",
       "std          0.0  3.406737e+00  8.797068e+00  1.988259e+00  4.780689e+02   \n",
       "min       2008.0  1.000000e+00  1.000000e+00  1.000000e+00  1.000000e+00   \n",
       "25%       2008.0  3.000000e+00  8.000000e+00  2.000000e+00  9.280000e+02   \n",
       "50%       2008.0  6.000000e+00  1.600000e+01  4.000000e+00  1.325000e+03   \n",
       "75%       2008.0  9.000000e+00  2.300000e+01  6.000000e+00  1.728000e+03   \n",
       "max       2008.0  1.200000e+01  3.100000e+01  7.000000e+00  2.400000e+03   \n",
       "\n",
       "         CRSDepTime       ArrTime    CRSArrTime     FlightNum  \\\n",
       "count  7.009728e+06  6.858079e+06  7.009728e+06  7.009728e+06   \n",
       "mean   1.326086e+03  1.481258e+03  1.494801e+03  2.224200e+03   \n",
       "std    4.642509e+02  5.052251e+02  4.826728e+02  1.961716e+03   \n",
       "min    0.000000e+00  1.000000e+00  0.000000e+00  1.000000e+00   \n",
       "25%    9.250000e+02  1.107000e+03  1.115000e+03  6.220000e+02   \n",
       "50%    1.320000e+03  1.512000e+03  1.517000e+03  1.571000e+03   \n",
       "75%    1.715000e+03  1.909000e+03  1.907000e+03  3.518000e+03   \n",
       "max    2.359000e+03  2.400000e+03  2.400000e+03  9.743000e+03   \n",
       "\n",
       "       ActualElapsedTime      ...           Diverted  CarrierDelay  \\\n",
       "count       6.855029e+06      ...       7.009728e+06  1.524735e+06   \n",
       "mean        1.273224e+02      ...       2.463006e-03  1.577206e+01   \n",
       "std         7.018731e+01      ...       4.956753e-02  4.009912e+01   \n",
       "min         1.200000e+01      ...       0.000000e+00  0.000000e+00   \n",
       "25%         7.700000e+01      ...       0.000000e+00  0.000000e+00   \n",
       "50%         1.100000e+02      ...       0.000000e+00  0.000000e+00   \n",
       "75%         1.570000e+02      ...       0.000000e+00  1.600000e+01   \n",
       "max         1.379000e+03      ...       1.000000e+00  2.436000e+03   \n",
       "\n",
       "       WeatherDelay      NASDelay  SecurityDelay  LateAircraftDelay  \\\n",
       "count  1.524735e+06  1.524735e+06   1.524735e+06       1.524735e+06   \n",
       "mean   3.039031e+00  1.716462e+01   7.497434e-02       2.077098e+01   \n",
       "std    1.950287e+01  3.189495e+01   1.837940e+00       3.925964e+01   \n",
       "min    0.000000e+00  0.000000e+00   0.000000e+00       0.000000e+00   \n",
       "25%    0.000000e+00  0.000000e+00   0.000000e+00       0.000000e+00   \n",
       "50%    0.000000e+00  6.000000e+00   0.000000e+00       0.000000e+00   \n",
       "75%    0.000000e+00  2.100000e+01   0.000000e+00       2.600000e+01   \n",
       "max    1.352000e+03  1.357000e+03   3.920000e+02       1.316000e+03   \n",
       "\n",
       "         lat_Origin   long_Origin      lat_Dest     long_Dest  \n",
       "count  7.009728e+06  7.009728e+06  7.009728e+06  7.009728e+06  \n",
       "mean   3.685224e+01 -9.510637e+01  3.685216e+01 -9.510661e+01  \n",
       "std    5.692855e+00  1.789563e+01  5.692920e+00  1.789537e+01  \n",
       "min    1.770189e+01 -1.766460e+02  1.770189e+01 -1.766460e+02  \n",
       "25%    3.343417e+01 -1.119778e+02  3.343417e+01 -1.119778e+02  \n",
       "50%    3.761900e+01 -8.966678e+01  3.761900e+01 -8.966678e+01  \n",
       "75%    4.078839e+01 -8.168786e+01  4.078839e+01 -8.168786e+01  \n",
       "max    7.128545e+01 -6.479856e+01  7.128545e+01 -6.479856e+01  \n",
       "\n",
       "[8 rows x 28 columns]"
      ]
     },
     "execution_count": 82,
     "metadata": {},
     "output_type": "execute_result"
    }
   ],
   "source": [
    "df.describe()"
   ]
  },
  {
   "cell_type": "code",
   "execution_count": 84,
   "metadata": {
    "ExecuteTime": {
     "end_time": "2018-08-19T08:42:37.300887Z",
     "start_time": "2018-08-19T08:42:35.960804Z"
    }
   },
   "outputs": [
    {
     "data": {
      "text/plain": [
       "5366"
      ]
     },
     "execution_count": 84,
     "metadata": {},
     "output_type": "execute_result"
    }
   ],
   "source": [
    "len((df.Origin+df.Dest).unique())"
   ]
  },
  {
   "cell_type": "code",
   "execution_count": 85,
   "metadata": {
    "ExecuteTime": {
     "end_time": "2018-08-19T08:44:01.018498Z",
     "start_time": "2018-08-19T08:44:00.924983Z"
    }
   },
   "outputs": [
    {
     "data": {
      "text/plain": [
       "7539"
      ]
     },
     "execution_count": 85,
     "metadata": {},
     "output_type": "execute_result"
    }
   ],
   "source": [
    "len(df.FlightNum.unique())"
   ]
  },
  {
   "cell_type": "code",
   "execution_count": null,
   "metadata": {},
   "outputs": [],
   "source": [
    "df.pivo"
   ]
  }
 ],
 "metadata": {
  "kernelspec": {
   "display_name": "Python 3",
   "language": "python",
   "name": "python3"
  },
  "language_info": {
   "codemirror_mode": {
    "name": "ipython",
    "version": 3
   },
   "file_extension": ".py",
   "mimetype": "text/x-python",
   "name": "python",
   "nbconvert_exporter": "python",
   "pygments_lexer": "ipython3",
   "version": "3.6.4"
  },
  "varInspector": {
   "cols": {
    "lenName": 16,
    "lenType": 16,
    "lenVar": 40
   },
   "kernels_config": {
    "python": {
     "delete_cmd_postfix": "",
     "delete_cmd_prefix": "del ",
     "library": "var_list.py",
     "varRefreshCmd": "print(var_dic_list())"
    },
    "r": {
     "delete_cmd_postfix": ") ",
     "delete_cmd_prefix": "rm(",
     "library": "var_list.r",
     "varRefreshCmd": "cat(var_dic_list()) "
    }
   },
   "types_to_exclude": [
    "module",
    "function",
    "builtin_function_or_method",
    "instance",
    "_Feature"
   ],
   "window_display": false
  }
 },
 "nbformat": 4,
 "nbformat_minor": 2
}
