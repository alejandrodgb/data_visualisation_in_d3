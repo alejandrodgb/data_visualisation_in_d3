{
 "cells": [
  {
   "cell_type": "code",
   "execution_count": 1,
   "metadata": {
    "ExecuteTime": {
     "end_time": "2018-08-25T04:42:26.450416Z",
     "start_time": "2018-08-25T04:42:25.918872Z"
    }
   },
   "outputs": [],
   "source": [
    "import pandas as pd\n",
    "import os\n",
    "import numpy as np\n",
    "from matplotlib import pyplot as plt\n",
    "import re\n",
    "import time\n",
    "import sys\n",
    "import pickle\n",
    "import datetime\n",
    "\n",
    "%matplotlib inline"
   ]
  },
  {
   "cell_type": "code",
   "execution_count": 2,
   "metadata": {
    "ExecuteTime": {
     "end_time": "2018-08-25T04:42:50.354497Z",
     "start_time": "2018-08-25T04:42:27.544460Z"
    }
   },
   "outputs": [],
   "source": [
    "df = pd.read_csv('2008.csv')"
   ]
  },
  {
   "cell_type": "code",
   "execution_count": 3,
   "metadata": {
    "ExecuteTime": {
     "end_time": "2018-08-25T04:42:53.065222Z",
     "start_time": "2018-08-25T04:42:53.057337Z"
    }
   },
   "outputs": [
    {
     "data": {
      "text/plain": [
       "(7009728, 29)"
      ]
     },
     "execution_count": 3,
     "metadata": {},
     "output_type": "execute_result"
    }
   ],
   "source": [
    "df.shape"
   ]
  },
  {
   "cell_type": "code",
   "execution_count": 4,
   "metadata": {
    "ExecuteTime": {
     "end_time": "2018-08-25T04:43:04.800948Z",
     "start_time": "2018-08-25T04:42:59.335159Z"
    },
    "scrolled": true
   },
   "outputs": [],
   "source": [
    "df['DepDateTime'] = pd.to_datetime(df['Year']*10000+df['Month']*100+\\\n",
    "                                   df['DayofMonth'],format='%Y%m%d')"
   ]
  },
  {
   "cell_type": "code",
   "execution_count": 5,
   "metadata": {
    "ExecuteTime": {
     "end_time": "2018-08-25T04:43:08.326704Z",
     "start_time": "2018-08-25T04:43:08.074269Z"
    },
    "scrolled": true
   },
   "outputs": [],
   "source": [
    "df['DepHour']= pd.cut(df.DepTime,\n",
    "                      bins=[0,100,200,300,400,500,600,700,800,900,1000,1100,\n",
    "                            1200,1300,1400,1500,1600,1700,1800,1900,2000,2100,\n",
    "                            2200,2300,2400],right=False)"
   ]
  },
  {
   "cell_type": "code",
   "execution_count": 6,
   "metadata": {
    "ExecuteTime": {
     "end_time": "2018-08-25T04:43:14.453238Z",
     "start_time": "2018-08-25T04:43:14.062481Z"
    }
   },
   "outputs": [],
   "source": [
    "df['DepDelay_30min'] = pd.cut(df.DepDelay, bins=range(-30,2490,30), right=False)\n",
    "df['ArrDelay_30min'] = pd.cut(df.ArrDelay, bins=range(-30,2490,30), right=False)"
   ]
  },
  {
   "cell_type": "code",
   "execution_count": 7,
   "metadata": {
    "ExecuteTime": {
     "end_time": "2018-08-25T04:43:16.937497Z",
     "start_time": "2018-08-25T04:43:16.917798Z"
    }
   },
   "outputs": [],
   "source": [
    "carriers=pd.read_csv('carriers.csv')\n",
    "airports=pd.read_csv('airports.csv')"
   ]
  },
  {
   "cell_type": "code",
   "execution_count": 8,
   "metadata": {
    "ExecuteTime": {
     "end_time": "2018-08-25T04:43:41.327413Z",
     "start_time": "2018-08-25T04:43:19.771072Z"
    }
   },
   "outputs": [],
   "source": [
    "df=pd.merge(df,airports[['iata','airport','lat','long']],left_on='Origin',\n",
    "            right_on='iata')\n",
    "df=pd.merge(df,airports[['iata','airport','lat','long']],left_on='Dest',\n",
    "            right_on='iata', suffixes=('_Origin','_Dest'))"
   ]
  },
  {
   "cell_type": "code",
   "execution_count": 9,
   "metadata": {
    "ExecuteTime": {
     "end_time": "2018-08-25T04:44:04.604086Z",
     "start_time": "2018-08-25T04:43:59.984792Z"
    }
   },
   "outputs": [],
   "source": [
    "df=df[['Year', 'Month', 'DayofMonth', 'DayOfWeek', 'DepTime', 'CRSDepTime',\n",
    "       'ArrTime', 'CRSArrTime', 'UniqueCarrier', 'FlightNum', 'TailNum',\n",
    "       'ActualElapsedTime', 'CRSElapsedTime', 'AirTime', 'ArrDelay',\n",
    "       'DepDelay', 'Origin', 'Dest', 'Distance', 'TaxiIn', 'TaxiOut',\n",
    "       'Cancelled', 'CancellationCode', 'Diverted', 'CarrierDelay',\n",
    "       'WeatherDelay', 'NASDelay', 'SecurityDelay', 'LateAircraftDelay',\n",
    "       'DepDateTime', 'DepHour', 'DepDelay_30min', 'ArrDelay_30min', \n",
    "       'airport_Origin', 'lat_Origin', 'long_Origin','airport_Dest', \n",
    "       'lat_Dest', 'long_Dest']]"
   ]
  },
  {
   "cell_type": "code",
   "execution_count": 10,
   "metadata": {
    "ExecuteTime": {
     "end_time": "2018-08-25T04:50:11.856181Z",
     "start_time": "2018-08-25T04:50:11.277677Z"
    }
   },
   "outputs": [],
   "source": [
    "df['YearMon'] = df.DepDateTime + pd.offsets.MonthBegin(-1)"
   ]
  },
  {
   "cell_type": "code",
   "execution_count": 11,
   "metadata": {},
   "outputs": [],
   "source": [
    "pickle.dump(df, open('2008_rf.p','wb'))"
   ]
  },
  {
   "cell_type": "code",
   "execution_count": 12,
   "metadata": {
    "ExecuteTime": {
     "end_time": "2018-08-25T04:56:46.034138Z",
     "start_time": "2018-08-25T04:51:14.851512Z"
    }
   },
   "outputs": [],
   "source": [
    "# write to csv\n",
    "#df.to_csv('2008_rf.csv', index=False)"
   ]
  },
  {
   "cell_type": "markdown",
   "metadata": {},
   "source": [
    "## Data analysis"
   ]
  },
  {
   "cell_type": "code",
   "execution_count": 13,
   "metadata": {},
   "outputs": [
    {
     "data": {
      "text/plain": [
       "Year                                            2008\n",
       "Month                                              1\n",
       "DayofMonth                                         3\n",
       "DayOfWeek                                          4\n",
       "DepTime                                         2003\n",
       "CRSDepTime                                      1955\n",
       "ArrTime                                         2211\n",
       "CRSArrTime                                      2225\n",
       "UniqueCarrier                                     WN\n",
       "FlightNum                                        335\n",
       "TailNum                                       N712SW\n",
       "ActualElapsedTime                                128\n",
       "CRSElapsedTime                                   150\n",
       "AirTime                                          116\n",
       "ArrDelay                                         -14\n",
       "DepDelay                                           8\n",
       "Origin                                           IAD\n",
       "Dest                                             TPA\n",
       "Distance                                         810\n",
       "TaxiIn                                             4\n",
       "TaxiOut                                            8\n",
       "Cancelled                                          0\n",
       "CancellationCode                                 NaN\n",
       "Diverted                                           0\n",
       "CarrierDelay                                     NaN\n",
       "WeatherDelay                                     NaN\n",
       "NASDelay                                         NaN\n",
       "SecurityDelay                                    NaN\n",
       "LateAircraftDelay                                NaN\n",
       "DepDateTime                      2008-01-03 00:00:00\n",
       "DepHour                                 [2000, 2100)\n",
       "DepDelay_30min                               [0, 30)\n",
       "ArrDelay_30min                              [-30, 0)\n",
       "airport_Origin       Washington Dulles International\n",
       "lat_Origin                                   38.9445\n",
       "long_Origin                                 -77.4558\n",
       "airport_Dest                    Tampa International \n",
       "lat_Dest                                     27.9755\n",
       "long_Dest                                   -82.5332\n",
       "YearMon                          2008-01-01 00:00:00\n",
       "Name: 0, dtype: object"
      ]
     },
     "execution_count": 13,
     "metadata": {},
     "output_type": "execute_result"
    }
   ],
   "source": [
    "# grouping by airline and day\n",
    "df.iloc[0]"
   ]
  },
  {
   "cell_type": "markdown",
   "metadata": {},
   "source": [
    "## Create a sample of data"
   ]
  },
  {
   "cell_type": "code",
   "execution_count": 14,
   "metadata": {
    "ExecuteTime": {
     "end_time": "2018-08-25T04:56:50.747033Z",
     "start_time": "2018-08-25T04:56:50.267731Z"
    }
   },
   "outputs": [],
   "source": [
    "df_sample = df.sample(10)\n",
    "df_sample.to_csv('2008_01.csv')"
   ]
  },
  {
   "cell_type": "code",
   "execution_count": 15,
   "metadata": {},
   "outputs": [
    {
     "data": {
      "text/plain": [
       "(-5.0, 15.0)"
      ]
     },
     "execution_count": 15,
     "metadata": {},
     "output_type": "execute_result"
    }
   ],
   "source": [
    "df_sample.DepDelay.min(), df_sample.DepDelay.max()"
   ]
  },
  {
   "cell_type": "code",
   "execution_count": 16,
   "metadata": {},
   "outputs": [
    {
     "data": {
      "text/plain": [
       "(-18.0, 15.0)"
      ]
     },
     "execution_count": 16,
     "metadata": {},
     "output_type": "execute_result"
    }
   ],
   "source": [
    "df_sample.ArrDelay.min(), df_sample.ArrDelay.max()"
   ]
  },
  {
   "cell_type": "code",
   "execution_count": 17,
   "metadata": {},
   "outputs": [
    {
     "data": {
      "text/plain": [
       "2228560     NaN\n",
       "3179304   -15.0\n",
       "2473346    -2.0\n",
       "5770394    -1.0\n",
       "4333128    13.0\n",
       "4635452     8.0\n",
       "1435935    -2.0\n",
       "4881577    15.0\n",
       "3024694   -11.0\n",
       "444213    -18.0\n",
       "Name: ArrDelay, dtype: float64"
      ]
     },
     "execution_count": 17,
     "metadata": {},
     "output_type": "execute_result"
    }
   ],
   "source": [
    "df_sample.ArrDelay"
   ]
  }
 ],
 "metadata": {
  "kernelspec": {
   "display_name": "Python 3",
   "language": "python",
   "name": "python3"
  },
  "language_info": {
   "codemirror_mode": {
    "name": "ipython",
    "version": 3
   },
   "file_extension": ".py",
   "mimetype": "text/x-python",
   "name": "python",
   "nbconvert_exporter": "python",
   "pygments_lexer": "ipython3",
   "version": "3.6.4"
  },
  "varInspector": {
   "cols": {
    "lenName": 16,
    "lenType": 16,
    "lenVar": 40
   },
   "kernels_config": {
    "python": {
     "delete_cmd_postfix": "",
     "delete_cmd_prefix": "del ",
     "library": "var_list.py",
     "varRefreshCmd": "print(var_dic_list())"
    },
    "r": {
     "delete_cmd_postfix": ") ",
     "delete_cmd_prefix": "rm(",
     "library": "var_list.r",
     "varRefreshCmd": "cat(var_dic_list()) "
    }
   },
   "types_to_exclude": [
    "module",
    "function",
    "builtin_function_or_method",
    "instance",
    "_Feature"
   ],
   "window_display": false
  }
 },
 "nbformat": 4,
 "nbformat_minor": 2
}
