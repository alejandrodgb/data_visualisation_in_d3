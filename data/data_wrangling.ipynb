{
 "cells": [
  {
   "cell_type": "code",
   "execution_count": 1,
   "metadata": {
    "ExecuteTime": {
     "end_time": "2018-08-25T04:42:26.450416Z",
     "start_time": "2018-08-25T04:42:25.918872Z"
    }
   },
   "outputs": [],
   "source": [
    "import pandas as pd\n",
    "import os\n",
    "import numpy as np\n",
    "from matplotlib import pyplot as plt\n",
    "import re\n",
    "import time\n",
    "import sys\n",
    "import pickle\n",
    "import datetime\n",
    "\n",
    "%matplotlib inline"
   ]
  },
  {
   "cell_type": "code",
   "execution_count": 2,
   "metadata": {},
   "outputs": [],
   "source": [
    "f='2008_rf_data.p'\n",
    "if os.path.isfile(f):\n",
    "    df=pickle.load(open(f,'rb'))\n",
    "else:\n",
    "    df = pd.read_csv('2008_data.csv')\n",
    "    df['DepDateTime'] = pd.to_datetime(df['Year']*10000+df['Month']*100+\\\n",
    "                                   df['DayofMonth'],format='%Y%m%d')\n",
    "    df['DepHour']= pd.cut(df.DepTime,\n",
    "                      bins=[0,100,200,300,400,500,600,700,800,900,1000,1100,\n",
    "                            1200,1300,1400,1500,1600,1700,1800,1900,2000,2100,\n",
    "                            2200,2300,2400],right=False)\n",
    "    df['DepDelay_30min'] = pd.cut(df.DepDelay, bins=range(-30,2490,30), \n",
    "                                  right=False)\n",
    "    df['ArrDelay_30min'] = pd.cut(df.ArrDelay, bins=range(-30,2490,30), \n",
    "                                  right=False)\n",
    "    carriers=pd.read_csv('carriers.csv')\n",
    "    airports=pd.read_csv('airports.csv')\n",
    "    df=pd.merge(df,airports[['iata','airport','lat','long']],left_on='Origin',\n",
    "                right_on='iata')\n",
    "    df=pd.merge(df,airports[['iata','airport','lat','long']],left_on='Dest',\n",
    "                right_on='iata', suffixes=('_Origin','_Dest'))\n",
    "    df=df[['Year', 'Month', 'DayofMonth', 'DayOfWeek', 'DepTime', 'CRSDepTime',\n",
    "       'ArrTime', 'CRSArrTime', 'UniqueCarrier', 'FlightNum', 'TailNum',\n",
    "       'ActualElapsedTime', 'CRSElapsedTime', 'AirTime', 'ArrDelay',\n",
    "       'DepDelay', 'Origin', 'Dest', 'Distance', 'TaxiIn', 'TaxiOut',\n",
    "       'Cancelled', 'CancellationCode', 'Diverted', 'CarrierDelay',\n",
    "       'WeatherDelay', 'NASDelay', 'SecurityDelay', 'LateAircraftDelay',\n",
    "       'DepDateTime', 'DepHour', 'DepDelay_30min', 'ArrDelay_30min', \n",
    "       'airport_Origin', 'lat_Origin', 'long_Origin','airport_Dest', \n",
    "       'lat_Dest', 'long_Dest']]\n",
    "    df['YearMon'] = df.DepDateTime + pd.offsets.MonthBegin(-1)\n",
    "    pickle.dump(df, open('2008_rf_data.p','wb'))\n",
    "    df.to_csv('2008_rf_data.csv', index=False)"
   ]
  },
  {
   "cell_type": "code",
   "execution_count": 3,
   "metadata": {
    "ExecuteTime": {
     "end_time": "2018-08-25T04:42:53.065222Z",
     "start_time": "2018-08-25T04:42:53.057337Z"
    },
    "scrolled": true
   },
   "outputs": [
    {
     "data": {
      "text/plain": [
       "(7009728, 40)"
      ]
     },
     "execution_count": 3,
     "metadata": {},
     "output_type": "execute_result"
    }
   ],
   "source": [
    "df.shape"
   ]
  },
  {
   "cell_type": "markdown",
   "metadata": {},
   "source": [
    "## Create a sample of data"
   ]
  },
  {
   "cell_type": "code",
   "execution_count": 8,
   "metadata": {
    "ExecuteTime": {
     "end_time": "2018-08-25T04:56:50.747033Z",
     "start_time": "2018-08-25T04:56:50.267731Z"
    }
   },
   "outputs": [],
   "source": [
    "df_sample = df.sample(500)#.query('Month==5')\n",
    "df_sample.to_csv('2008_01.csv')"
   ]
  },
  {
   "cell_type": "code",
   "execution_count": 9,
   "metadata": {},
   "outputs": [
    {
     "data": {
      "text/html": [
       "<div>\n",
       "<style scoped>\n",
       "    .dataframe tbody tr th:only-of-type {\n",
       "        vertical-align: middle;\n",
       "    }\n",
       "\n",
       "    .dataframe tbody tr th {\n",
       "        vertical-align: top;\n",
       "    }\n",
       "\n",
       "    .dataframe thead th {\n",
       "        text-align: right;\n",
       "    }\n",
       "</style>\n",
       "<table border=\"1\" class=\"dataframe\">\n",
       "  <thead>\n",
       "    <tr style=\"text-align: right;\">\n",
       "      <th></th>\n",
       "      <th>airport_Origin</th>\n",
       "    </tr>\n",
       "    <tr>\n",
       "      <th>Month</th>\n",
       "      <th></th>\n",
       "    </tr>\n",
       "  </thead>\n",
       "  <tbody>\n",
       "    <tr>\n",
       "      <th>1</th>\n",
       "      <td>35</td>\n",
       "    </tr>\n",
       "    <tr>\n",
       "      <th>2</th>\n",
       "      <td>26</td>\n",
       "    </tr>\n",
       "    <tr>\n",
       "      <th>3</th>\n",
       "      <td>34</td>\n",
       "    </tr>\n",
       "    <tr>\n",
       "      <th>4</th>\n",
       "      <td>30</td>\n",
       "    </tr>\n",
       "    <tr>\n",
       "      <th>5</th>\n",
       "      <td>24</td>\n",
       "    </tr>\n",
       "    <tr>\n",
       "      <th>6</th>\n",
       "      <td>23</td>\n",
       "    </tr>\n",
       "    <tr>\n",
       "      <th>7</th>\n",
       "      <td>31</td>\n",
       "    </tr>\n",
       "    <tr>\n",
       "      <th>8</th>\n",
       "      <td>26</td>\n",
       "    </tr>\n",
       "    <tr>\n",
       "      <th>9</th>\n",
       "      <td>37</td>\n",
       "    </tr>\n",
       "    <tr>\n",
       "      <th>10</th>\n",
       "      <td>24</td>\n",
       "    </tr>\n",
       "    <tr>\n",
       "      <th>11</th>\n",
       "      <td>27</td>\n",
       "    </tr>\n",
       "    <tr>\n",
       "      <th>12</th>\n",
       "      <td>37</td>\n",
       "    </tr>\n",
       "  </tbody>\n",
       "</table>\n",
       "</div>"
      ],
      "text/plain": [
       "       airport_Origin\n",
       "Month                \n",
       "1                  35\n",
       "2                  26\n",
       "3                  34\n",
       "4                  30\n",
       "5                  24\n",
       "6                  23\n",
       "7                  31\n",
       "8                  26\n",
       "9                  37\n",
       "10                 24\n",
       "11                 27\n",
       "12                 37"
      ]
     },
     "execution_count": 9,
     "metadata": {},
     "output_type": "execute_result"
    }
   ],
   "source": [
    "df_sample.pivot_table(values='Year', index=['Month','airport_Origin'], \n",
    "                      aggfunc='count').reset_index().groupby('Month')\\\n",
    ".count()[['airport_Origin']]"
   ]
  }
 ],
 "metadata": {
  "kernelspec": {
   "display_name": "Python 3",
   "language": "python",
   "name": "python3"
  },
  "language_info": {
   "codemirror_mode": {
    "name": "ipython",
    "version": 3
   },
   "file_extension": ".py",
   "mimetype": "text/x-python",
   "name": "python",
   "nbconvert_exporter": "python",
   "pygments_lexer": "ipython3",
   "version": "3.6.4"
  },
  "varInspector": {
   "cols": {
    "lenName": 16,
    "lenType": 16,
    "lenVar": 40
   },
   "kernels_config": {
    "python": {
     "delete_cmd_postfix": "",
     "delete_cmd_prefix": "del ",
     "library": "var_list.py",
     "varRefreshCmd": "print(var_dic_list())"
    },
    "r": {
     "delete_cmd_postfix": ") ",
     "delete_cmd_prefix": "rm(",
     "library": "var_list.r",
     "varRefreshCmd": "cat(var_dic_list()) "
    }
   },
   "types_to_exclude": [
    "module",
    "function",
    "builtin_function_or_method",
    "instance",
    "_Feature"
   ],
   "window_display": false
  }
 },
 "nbformat": 4,
 "nbformat_minor": 2
}
