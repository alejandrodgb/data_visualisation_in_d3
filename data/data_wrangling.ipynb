{
 "cells": [
  {
   "cell_type": "code",
   "execution_count": 1,
   "metadata": {
    "ExecuteTime": {
     "end_time": "2018-08-22T20:39:22.452058Z",
     "start_time": "2018-08-22T20:39:21.217211Z"
    }
   },
   "outputs": [],
   "source": [
    "import pandas as pd\n",
    "import os\n",
    "import numpy as np\n",
    "from matplotlib import pyplot as plt\n",
    "import re\n",
    "import time\n",
    "import sys\n",
    "import pickle\n",
    "import datetime\n",
    "\n",
    "%matplotlib inline"
   ]
  },
  {
   "cell_type": "code",
   "execution_count": 2,
   "metadata": {
    "ExecuteTime": {
     "end_time": "2018-08-22T20:39:47.251719Z",
     "start_time": "2018-08-22T20:39:23.605622Z"
    }
   },
   "outputs": [],
   "source": [
    "df = pd.read_csv('2008.csv')"
   ]
  },
  {
   "cell_type": "code",
   "execution_count": 3,
   "metadata": {
    "ExecuteTime": {
     "end_time": "2018-08-22T20:39:48.500975Z",
     "start_time": "2018-08-22T20:39:48.494846Z"
    }
   },
   "outputs": [
    {
     "data": {
      "text/plain": [
       "(7009728, 29)"
      ]
     },
     "execution_count": 3,
     "metadata": {},
     "output_type": "execute_result"
    }
   ],
   "source": [
    "df.shape"
   ]
  },
  {
   "cell_type": "code",
   "execution_count": 4,
   "metadata": {
    "ExecuteTime": {
     "end_time": "2018-08-22T20:39:49.843665Z",
     "start_time": "2018-08-22T20:39:49.835738Z"
    },
    "scrolled": true
   },
   "outputs": [
    {
     "name": "stdout",
     "output_type": "stream",
     "text": [
      "<class 'pandas.core.frame.DataFrame'>\n",
      "RangeIndex: 7009728 entries, 0 to 7009727\n",
      "Data columns (total 29 columns):\n",
      "Year                 int64\n",
      "Month                int64\n",
      "DayofMonth           int64\n",
      "DayOfWeek            int64\n",
      "DepTime              float64\n",
      "CRSDepTime           int64\n",
      "ArrTime              float64\n",
      "CRSArrTime           int64\n",
      "UniqueCarrier        object\n",
      "FlightNum            int64\n",
      "TailNum              object\n",
      "ActualElapsedTime    float64\n",
      "CRSElapsedTime       float64\n",
      "AirTime              float64\n",
      "ArrDelay             float64\n",
      "DepDelay             float64\n",
      "Origin               object\n",
      "Dest                 object\n",
      "Distance             int64\n",
      "TaxiIn               float64\n",
      "TaxiOut              float64\n",
      "Cancelled            int64\n",
      "CancellationCode     object\n",
      "Diverted             int64\n",
      "CarrierDelay         float64\n",
      "WeatherDelay         float64\n",
      "NASDelay             float64\n",
      "SecurityDelay        float64\n",
      "LateAircraftDelay    float64\n",
      "dtypes: float64(14), int64(10), object(5)\n",
      "memory usage: 1.5+ GB\n"
     ]
    }
   ],
   "source": [
    "df.info()"
   ]
  },
  {
   "cell_type": "code",
   "execution_count": 5,
   "metadata": {
    "ExecuteTime": {
     "end_time": "2018-08-22T20:39:56.606811Z",
     "start_time": "2018-08-22T20:39:50.934754Z"
    },
    "scrolled": true
   },
   "outputs": [],
   "source": [
    "df['DepDateTime'] = pd.to_datetime(df['Year']*10000+df['Month']*100+\\\n",
    "                                   df['DayofMonth'],format='%Y%m%d')"
   ]
  },
  {
   "cell_type": "code",
   "execution_count": 6,
   "metadata": {
    "ExecuteTime": {
     "end_time": "2018-08-22T20:39:58.256348Z",
     "start_time": "2018-08-22T20:39:57.898030Z"
    },
    "scrolled": true
   },
   "outputs": [],
   "source": [
    "df['DepHour']= pd.cut(df.DepTime,\n",
    "                      bins=[0,100,200,300,400,500,600,700,800,900,1000,1100,\n",
    "                            1200,1300,1400,1500,1600,1700,1800,1900,2000,2100,\n",
    "                            2200,2300,2400],right=False)"
   ]
  },
  {
   "cell_type": "code",
   "execution_count": 7,
   "metadata": {
    "ExecuteTime": {
     "end_time": "2018-08-22T20:39:59.706645Z",
     "start_time": "2018-08-22T20:39:59.315525Z"
    }
   },
   "outputs": [
    {
     "data": {
      "text/plain": [
       "count    6.855029e+06\n",
       "mean     8.168452e+00\n",
       "std      3.850194e+01\n",
       "min     -5.190000e+02\n",
       "50%     -2.000000e+00\n",
       "95%      7.500000e+01\n",
       "max      2.461000e+03\n",
       "Name: ArrDelay, dtype: float64"
      ]
     },
     "execution_count": 7,
     "metadata": {},
     "output_type": "execute_result"
    }
   ],
   "source": [
    "df.ArrDelay.describe(percentiles=[0.95])"
   ]
  },
  {
   "cell_type": "code",
   "execution_count": 8,
   "metadata": {
    "ExecuteTime": {
     "end_time": "2018-08-22T20:40:01.344382Z",
     "start_time": "2018-08-22T20:40:00.930149Z"
    }
   },
   "outputs": [],
   "source": [
    "df['DepDelay_30min'] = pd.cut(df.DepDelay, bins=range(-30,2490,30), right=False)\n",
    "df['ArrDelay_30min'] = pd.cut(df.ArrDelay, bins=range(-30,2490,30), right=False)"
   ]
  },
  {
   "cell_type": "code",
   "execution_count": 9,
   "metadata": {
    "ExecuteTime": {
     "end_time": "2018-08-22T20:41:02.977745Z",
     "start_time": "2018-08-22T20:41:02.927321Z"
    }
   },
   "outputs": [],
   "source": [
    "carriers=pd.read_csv('carriers.csv')\n",
    "airports=pd.read_csv('airports.csv')"
   ]
  },
  {
   "cell_type": "code",
   "execution_count": 10,
   "metadata": {
    "ExecuteTime": {
     "end_time": "2018-08-22T20:41:27.449396Z",
     "start_time": "2018-08-22T20:41:07.804119Z"
    }
   },
   "outputs": [],
   "source": [
    "df=pd.merge(df,airports[['iata','airport','lat','long']],left_on='Origin',\n",
    "            right_on='iata')\n",
    "df=pd.merge(df,airports[['iata','airport','lat','long']],left_on='Dest',\n",
    "            right_on='iata', suffixes=('_Origin','_Dest'))"
   ]
  },
  {
   "cell_type": "code",
   "execution_count": 11,
   "metadata": {
    "ExecuteTime": {
     "end_time": "2018-08-22T20:41:33.063065Z",
     "start_time": "2018-08-22T20:41:29.880576Z"
    }
   },
   "outputs": [
    {
     "name": "stdout",
     "output_type": "stream",
     "text": [
      "<class 'pandas.core.frame.DataFrame'>\n",
      "Int64Index: 7009728 entries, 0 to 7009727\n",
      "Data columns (total 41 columns):\n",
      "Year                 int64\n",
      "Month                int64\n",
      "DayofMonth           int64\n",
      "DayOfWeek            int64\n",
      "DepTime              float64\n",
      "CRSDepTime           int64\n",
      "ArrTime              float64\n",
      "CRSArrTime           int64\n",
      "UniqueCarrier        object\n",
      "FlightNum            int64\n",
      "TailNum              object\n",
      "ActualElapsedTime    float64\n",
      "CRSElapsedTime       float64\n",
      "AirTime              float64\n",
      "ArrDelay             float64\n",
      "DepDelay             float64\n",
      "Origin               object\n",
      "Dest                 object\n",
      "Distance             int64\n",
      "TaxiIn               float64\n",
      "TaxiOut              float64\n",
      "Cancelled            int64\n",
      "CancellationCode     object\n",
      "Diverted             int64\n",
      "CarrierDelay         float64\n",
      "WeatherDelay         float64\n",
      "NASDelay             float64\n",
      "SecurityDelay        float64\n",
      "LateAircraftDelay    float64\n",
      "DepDateTime          datetime64[ns]\n",
      "DepHour              category\n",
      "DepDelay_30min       category\n",
      "ArrDelay_30min       category\n",
      "iata_Origin          object\n",
      "airport_Origin       object\n",
      "lat_Origin           float64\n",
      "long_Origin          float64\n",
      "iata_Dest            object\n",
      "airport_Dest         object\n",
      "lat_Dest             float64\n",
      "long_Dest            float64\n",
      "dtypes: category(3), datetime64[ns](1), float64(18), int64(10), object(9)\n",
      "memory usage: 2.1+ GB\n"
     ]
    }
   ],
   "source": [
    "df.info()"
   ]
  },
  {
   "cell_type": "code",
   "execution_count": 12,
   "metadata": {
    "ExecuteTime": {
     "end_time": "2018-08-22T20:41:35.097336Z",
     "start_time": "2018-08-22T20:41:35.090338Z"
    }
   },
   "outputs": [
    {
     "data": {
      "text/plain": [
       "Index(['Year', 'Month', 'DayofMonth', 'DayOfWeek', 'DepTime', 'CRSDepTime',\n",
       "       'ArrTime', 'CRSArrTime', 'UniqueCarrier', 'FlightNum', 'TailNum',\n",
       "       'ActualElapsedTime', 'CRSElapsedTime', 'AirTime', 'ArrDelay',\n",
       "       'DepDelay', 'Origin', 'Dest', 'Distance', 'TaxiIn', 'TaxiOut',\n",
       "       'Cancelled', 'CancellationCode', 'Diverted', 'CarrierDelay',\n",
       "       'WeatherDelay', 'NASDelay', 'SecurityDelay', 'LateAircraftDelay',\n",
       "       'DepDateTime', 'DepHour', 'DepDelay_30min', 'ArrDelay_30min',\n",
       "       'iata_Origin', 'airport_Origin', 'lat_Origin', 'long_Origin',\n",
       "       'iata_Dest', 'airport_Dest', 'lat_Dest', 'long_Dest'],\n",
       "      dtype='object')"
      ]
     },
     "execution_count": 12,
     "metadata": {},
     "output_type": "execute_result"
    }
   ],
   "source": [
    "# rename columns\n",
    "df.columns"
   ]
  },
  {
   "cell_type": "code",
   "execution_count": 13,
   "metadata": {
    "ExecuteTime": {
     "end_time": "2018-08-22T20:41:40.517303Z",
     "start_time": "2018-08-22T20:41:37.394827Z"
    }
   },
   "outputs": [],
   "source": [
    "df=df[['Year', 'Month', 'DayofMonth', 'DayOfWeek', 'DepTime', 'CRSDepTime',\n",
    "       'ArrTime', 'CRSArrTime', 'UniqueCarrier', 'FlightNum', 'TailNum',\n",
    "       'ActualElapsedTime', 'CRSElapsedTime', 'AirTime', 'ArrDelay',\n",
    "       'DepDelay', 'Origin', 'Dest', 'Distance', 'TaxiIn', 'TaxiOut',\n",
    "       'Cancelled', 'CancellationCode', 'Diverted', 'CarrierDelay',\n",
    "       'WeatherDelay', 'NASDelay', 'SecurityDelay', 'LateAircraftDelay',\n",
    "       'DepDateTime', 'DepHour', 'DepDelay_30min', 'ArrDelay_30min', \n",
    "       'airport_Origin', 'lat_Origin', 'long_Origin','airport_Dest', \n",
    "       'lat_Dest', 'long_Dest']]"
   ]
  },
  {
   "cell_type": "code",
   "execution_count": 68,
   "metadata": {
    "ExecuteTime": {
     "end_time": "2018-08-19T04:41:47.856857Z",
     "start_time": "2018-08-19T04:35:55.983937Z"
    }
   },
   "outputs": [],
   "source": [
    "# write to csv\n",
    "#df.to_csv('2008_rf.csv', index=False)"
   ]
  },
  {
   "cell_type": "code",
   "execution_count": 26,
   "metadata": {
    "ExecuteTime": {
     "end_time": "2018-08-22T21:28:57.674752Z",
     "start_time": "2018-08-22T21:28:57.175299Z"
    }
   },
   "outputs": [],
   "source": [
    "df.sample(10).to_csv('2008_01.csv')"
   ]
  },
  {
   "cell_type": "code",
   "execution_count": 17,
   "metadata": {
    "ExecuteTime": {
     "end_time": "2018-08-22T21:02:28.260269Z",
     "start_time": "2018-08-22T21:02:28.236247Z"
    }
   },
   "outputs": [],
   "source": [
    "df_sample = pd.read_csv('2008_01.csv')"
   ]
  },
  {
   "cell_type": "code",
   "execution_count": 22,
   "metadata": {
    "ExecuteTime": {
     "end_time": "2018-08-22T21:13:17.587366Z",
     "start_time": "2018-08-22T21:13:17.573034Z"
    }
   },
   "outputs": [
    {
     "data": {
      "text/html": [
       "<div>\n",
       "<style scoped>\n",
       "    .dataframe tbody tr th:only-of-type {\n",
       "        vertical-align: middle;\n",
       "    }\n",
       "\n",
       "    .dataframe tbody tr th {\n",
       "        vertical-align: top;\n",
       "    }\n",
       "\n",
       "    .dataframe thead th {\n",
       "        text-align: right;\n",
       "    }\n",
       "</style>\n",
       "<table border=\"1\" class=\"dataframe\">\n",
       "  <thead>\n",
       "    <tr style=\"text-align: right;\">\n",
       "      <th></th>\n",
       "      <th>lat_Origin</th>\n",
       "    </tr>\n",
       "    <tr>\n",
       "      <th>DayOfWeek</th>\n",
       "      <th></th>\n",
       "    </tr>\n",
       "  </thead>\n",
       "  <tbody>\n",
       "    <tr>\n",
       "      <th>1</th>\n",
       "      <td>7.0</td>\n",
       "    </tr>\n",
       "    <tr>\n",
       "      <th>2</th>\n",
       "      <td>18.0</td>\n",
       "    </tr>\n",
       "    <tr>\n",
       "      <th>3</th>\n",
       "      <td>18.0</td>\n",
       "    </tr>\n",
       "    <tr>\n",
       "      <th>4</th>\n",
       "      <td>12.0</td>\n",
       "    </tr>\n",
       "    <tr>\n",
       "      <th>5</th>\n",
       "      <td>8.0</td>\n",
       "    </tr>\n",
       "    <tr>\n",
       "      <th>6</th>\n",
       "      <td>14.0</td>\n",
       "    </tr>\n",
       "    <tr>\n",
       "      <th>7</th>\n",
       "      <td>23.0</td>\n",
       "    </tr>\n",
       "  </tbody>\n",
       "</table>\n",
       "</div>"
      ],
      "text/plain": [
       "           lat_Origin\n",
       "DayOfWeek            \n",
       "1                 7.0\n",
       "2                18.0\n",
       "3                18.0\n",
       "4                12.0\n",
       "5                 8.0\n",
       "6                14.0\n",
       "7                23.0"
      ]
     },
     "execution_count": 22,
     "metadata": {},
     "output_type": "execute_result"
    }
   ],
   "source": [
    "df_sample.pivot_table(values='lat_Origin',index='DayOfWeek', aggfunc=len)"
   ]
  },
  {
   "cell_type": "code",
   "execution_count": 31,
   "metadata": {
    "ExecuteTime": {
     "end_time": "2018-08-23T07:24:30.969801Z",
     "start_time": "2018-08-23T07:24:30.950842Z"
    }
   },
   "outputs": [
    {
     "data": {
      "text/html": [
       "<div>\n",
       "<style scoped>\n",
       "    .dataframe tbody tr th:only-of-type {\n",
       "        vertical-align: middle;\n",
       "    }\n",
       "\n",
       "    .dataframe tbody tr th {\n",
       "        vertical-align: top;\n",
       "    }\n",
       "\n",
       "    .dataframe thead th {\n",
       "        text-align: right;\n",
       "    }\n",
       "</style>\n",
       "<table border=\"1\" class=\"dataframe\">\n",
       "  <thead>\n",
       "    <tr style=\"text-align: right;\">\n",
       "      <th></th>\n",
       "      <th>long_Origin</th>\n",
       "      <th>lat_Origin</th>\n",
       "      <th>long_Dest</th>\n",
       "      <th>lat_Dest</th>\n",
       "    </tr>\n",
       "  </thead>\n",
       "  <tbody>\n",
       "    <tr>\n",
       "      <th>19</th>\n",
       "      <td>-82.533250</td>\n",
       "      <td>27.975472</td>\n",
       "      <td>-75.241141</td>\n",
       "      <td>39.871953</td>\n",
       "    </tr>\n",
       "    <tr>\n",
       "      <th>45</th>\n",
       "      <td>-93.216922</td>\n",
       "      <td>44.880547</td>\n",
       "      <td>-97.037200</td>\n",
       "      <td>32.895951</td>\n",
       "    </tr>\n",
       "    <tr>\n",
       "      <th>51</th>\n",
       "      <td>-115.152333</td>\n",
       "      <td>36.080361</td>\n",
       "      <td>-116.506253</td>\n",
       "      <td>33.829216</td>\n",
       "    </tr>\n",
       "    <tr>\n",
       "      <th>54</th>\n",
       "      <td>-80.152750</td>\n",
       "      <td>26.072583</td>\n",
       "      <td>-81.849397</td>\n",
       "      <td>41.410894</td>\n",
       "    </tr>\n",
       "    <tr>\n",
       "      <th>58</th>\n",
       "      <td>-80.943126</td>\n",
       "      <td>35.214011</td>\n",
       "      <td>-84.426944</td>\n",
       "      <td>33.640444</td>\n",
       "    </tr>\n",
       "    <tr>\n",
       "      <th>75</th>\n",
       "      <td>-90.507539</td>\n",
       "      <td>41.448526</td>\n",
       "      <td>-87.904464</td>\n",
       "      <td>41.979595</td>\n",
       "    </tr>\n",
       "    <tr>\n",
       "      <th>79</th>\n",
       "      <td>-81.316028</td>\n",
       "      <td>28.428889</td>\n",
       "      <td>-84.426944</td>\n",
       "      <td>33.640444</td>\n",
       "    </tr>\n",
       "  </tbody>\n",
       "</table>\n",
       "</div>"
      ],
      "text/plain": [
       "    long_Origin  lat_Origin   long_Dest   lat_Dest\n",
       "19   -82.533250   27.975472  -75.241141  39.871953\n",
       "45   -93.216922   44.880547  -97.037200  32.895951\n",
       "51  -115.152333   36.080361 -116.506253  33.829216\n",
       "54   -80.152750   26.072583  -81.849397  41.410894\n",
       "58   -80.943126   35.214011  -84.426944  33.640444\n",
       "75   -90.507539   41.448526  -87.904464  41.979595\n",
       "79   -81.316028   28.428889  -84.426944  33.640444"
      ]
     },
     "execution_count": 31,
     "metadata": {},
     "output_type": "execute_result"
    }
   ],
   "source": [
    "df_sample.query('DayOfWeek==1')[['long_Origin', 'lat_Origin', 'long_Dest',\n",
    "                                 'lat_Dest']]"
   ]
  }
 ],
 "metadata": {
  "kernelspec": {
   "display_name": "Python 3",
   "language": "python",
   "name": "python3"
  },
  "language_info": {
   "codemirror_mode": {
    "name": "ipython",
    "version": 3
   },
   "file_extension": ".py",
   "mimetype": "text/x-python",
   "name": "python",
   "nbconvert_exporter": "python",
   "pygments_lexer": "ipython3",
   "version": "3.6.4"
  },
  "varInspector": {
   "cols": {
    "lenName": 16,
    "lenType": 16,
    "lenVar": 40
   },
   "kernels_config": {
    "python": {
     "delete_cmd_postfix": "",
     "delete_cmd_prefix": "del ",
     "library": "var_list.py",
     "varRefreshCmd": "print(var_dic_list())"
    },
    "r": {
     "delete_cmd_postfix": ") ",
     "delete_cmd_prefix": "rm(",
     "library": "var_list.r",
     "varRefreshCmd": "cat(var_dic_list()) "
    }
   },
   "types_to_exclude": [
    "module",
    "function",
    "builtin_function_or_method",
    "instance",
    "_Feature"
   ],
   "window_display": false
  }
 },
 "nbformat": 4,
 "nbformat_minor": 2
}
